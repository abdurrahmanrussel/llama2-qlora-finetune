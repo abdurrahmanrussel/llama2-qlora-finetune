{
  "nbformat": 4,
  "nbformat_minor": 0,
  "metadata": {
    "colab": {
      "provenance": [],
      "authorship_tag": "ABX9TyMpOFTZNLOc4rLFDGrWCdUb",
      "include_colab_link": true
    },
    "kernelspec": {
      "name": "python3",
      "display_name": "Python 3"
    },
    "language_info": {
      "name": "python"
    }
  },
  "cells": [
    {
      "cell_type": "markdown",
      "metadata": {
        "id": "view-in-github",
        "colab_type": "text"
      },
      "source": [
        "<a href=\"https://colab.research.google.com/github/abdurrahmanrussel/llama2-qlora-finetune/blob/main/llama2_qlora_finetuning.ipynb\" target=\"_parent\"><img src=\"https://colab.research.google.com/assets/colab-badge.svg\" alt=\"Open In Colab\"/></a>"
      ]
    },
    {
      "cell_type": "code",
      "execution_count": null,
      "metadata": {
        "id": "IecGyEZqjPY1"
      },
      "outputs": [],
      "source": [
        "# Upgrade pip and install required packages\n",
        "!pip install -q -U pip\n",
        "!pip install -q -U bitsandbytes\n",
        "!pip install -q -U git+https://github.com/huggingface/transformers.git\n",
        "!pip install -q -U git+https://github.com/huggingface/peft.git\n",
        "!pip install -q -U git+https://github.com/huggingface/accelerate.git\n",
        "!pip install -q -U trl\n",
        "!pip install -q -U datasets safetensors\n"
      ]
    },
    {
      "cell_type": "code",
      "source": [
        "from getpass import getpass\n",
        "import os\n",
        "\n",
        "# ----------------------------\n",
        "# MODEL / DATA\n",
        "# ----------------------------\n",
        "model_name = \"NousResearch/Llama-2-7b-chat-hf\"  # Hugging Face gated model\n",
        "dataset_name = \"mlabonne/guanaco-llama2-1k\"      # Instruction dataset\n",
        "new_adapter_name = \"llama2-7b-qlora-adapter\"    # Save folder for LoRA adapter\n",
        "output_dir = \"/content/llama2-qlora-output\"     # You can also mount Drive\n",
        "\n",
        "# ----------------------------\n",
        "# LoRA params (T4-safe)\n",
        "# ----------------------------\n",
        "lora_r = 32\n",
        "lora_alpha = 16\n",
        "lora_dropout = 0.05\n",
        "\n",
        "# ----------------------------\n",
        "# QLoRA / BitsAndBytes params\n",
        "# ----------------------------\n",
        "use_4bit = True\n",
        "bnb_4bit_quant_type = \"nf4\"\n",
        "bnb_4bit_compute_dtype = \"float16\"\n",
        "use_double_quant = False\n",
        "\n",
        "# ----------------------------\n",
        "# Training params\n",
        "# ----------------------------\n",
        "num_train_epochs = 1\n",
        "per_device_train_batch_size = 1\n",
        "per_device_eval_batch_size = 1\n",
        "gradient_accumulation_steps = 8  # effective batch = 1*8 = 8\n",
        "learning_rate = 2e-4\n",
        "weight_decay = 0.0\n",
        "gradient_checkpointing = True\n",
        "max_seq_length = 256  # reduce for T4 GPU\n",
        "logging_steps = 25\n",
        "save_steps = 200\n",
        "\n",
        "effective_batch = per_device_train_batch_size * gradient_accumulation_steps\n",
        "print(f\"Effective batch size = {effective_batch}\")\n",
        "\n",
        "# Device map\n",
        "device_map = \"auto\"\n",
        "\n",
        "# ----------------------------\n",
        "# Hugging Face token\n",
        "# ----------------------------\n",
        "hf_token = getpass(\"Enter your Hugging Face token: \")\n",
        "os.environ[\"HUGGINGFACE_HUB_TOKEN\"] = hf_token\n"
      ],
      "metadata": {
        "id": "ecJ5-q0TjfAm"
      },
      "execution_count": null,
      "outputs": []
    },
    {
      "cell_type": "code",
      "source": [
        "from datasets import load_dataset\n",
        "from transformers import AutoTokenizer, AutoModelForCausalLM, BitsAndBytesConfig\n",
        "from peft import prepare_model_for_kbit_training, LoraConfig, get_peft_model\n",
        "from trl import SFTConfig, SFTTrainer\n"
      ],
      "metadata": {
        "id": "vxtU5rkyjfDm"
      },
      "execution_count": null,
      "outputs": []
    },
    {
      "cell_type": "code",
      "source": [
        "print(\"Loading dataset:\", dataset_name)\n",
        "dataset = load_dataset(dataset_name, split=\"train\")\n",
        "print(dataset)\n",
        "\n",
        "# Automatic text field detection\n",
        "text_field = None\n",
        "for col in dataset.column_names:\n",
        "    if col in (\"text\", \"content\", \"instruction\", \"prompt\", \"messages\", \"input\"):\n",
        "        text_field = col\n",
        "        break\n",
        "if text_field is None:\n",
        "    # fallback to first string column\n",
        "    for col in dataset.column_names:\n",
        "        if dataset.features[col].dtype == 'string' or str(dataset.features[col]).startswith('Value'):\n",
        "            text_field = col\n",
        "            break\n",
        "print(\"Using text field:\", text_field)\n"
      ],
      "metadata": {
        "id": "xWUZEC1wjfHW"
      },
      "execution_count": null,
      "outputs": []
    },
    {
      "cell_type": "code",
      "source": [
        "# ----------------------------\n",
        "# Step 5 - Load tokenizer + 4-bit model\n",
        "# ----------------------------\n",
        "import torch\n",
        "from transformers import AutoTokenizer, AutoModelForCausalLM, BitsAndBytesConfig\n",
        "from peft import prepare_model_for_kbit_training\n",
        "\n",
        "# Compute dtype mapping\n",
        "compute_dtype = getattr(torch, bnb_4bit_compute_dtype)\n",
        "\n",
        "# BitsAndBytes 4-bit config\n",
        "bnb_config = BitsAndBytesConfig(\n",
        "    load_in_4bit=use_4bit,\n",
        "    bnb_4bit_quant_type=bnb_4bit_quant_type,\n",
        "    bnb_4bit_compute_dtype=compute_dtype,\n",
        "    bnb_4bit_use_double_quant=use_double_quant,\n",
        ")\n",
        "\n",
        "# Load tokenizer\n",
        "print(\"Loading tokenizer...\")\n",
        "tokenizer = AutoTokenizer.from_pretrained(model_name, trust_remote_code=True)\n",
        "if tokenizer.pad_token_id is None:\n",
        "    tokenizer.pad_token = tokenizer.eos_token\n",
        "    tokenizer.padding_side = \"right\"\n",
        "\n",
        "# Load 4-bit base model\n",
        "print(\"Loading 4-bit model (this may take a few minutes)...\")\n",
        "model = AutoModelForCausalLM.from_pretrained(\n",
        "    model_name,\n",
        "    quantization_config=bnb_config,\n",
        "    device_map=device_map,\n",
        "    trust_remote_code=True,\n",
        ")\n",
        "\n",
        "model.config.use_cache = False\n",
        "\n",
        "# Prepare for k-bit training (LoRA)\n",
        "model = prepare_model_for_kbit_training(model)\n"
      ],
      "metadata": {
        "id": "11IEfYGdjfKS"
      },
      "execution_count": null,
      "outputs": []
    },
    {
      "cell_type": "code",
      "source": [
        "# ----------------------------\n",
        "# Step 6 - Attach LoRA adapters (fixed)\n",
        "# ----------------------------\n",
        "from peft import LoraConfig, get_peft_model\n",
        "\n",
        "peft_config = LoraConfig(\n",
        "    r=lora_r,\n",
        "    lora_alpha=lora_alpha,\n",
        "    target_modules=[\"q_proj\", \"v_proj\"],  # fix for LLaMA-2\n",
        "    lora_dropout=lora_dropout,\n",
        "    bias=\"none\",\n",
        "    task_type=\"CAUSAL_LM\",\n",
        ")\n",
        "\n",
        "model = get_peft_model(model, peft_config)\n",
        "\n",
        "# Print trainable parameters\n",
        "trainable_params = sum(p.numel() for p in model.parameters() if p.requires_grad)\n",
        "total_params = sum(p.numel() for p in model.parameters())\n",
        "print(f\"Trainable params: {trainable_params:,} / {total_params:,} ({100*trainable_params/total_params:.4f}%)\")\n"
      ],
      "metadata": {
        "id": "46Krv3hGjfNR"
      },
      "execution_count": null,
      "outputs": []
    },
    {
      "cell_type": "code",
      "source": [
        "from transformers import TrainingArguments\n",
        "from trl import SFTTrainer\n",
        "\n",
        "# Training arguments (HF standard)\n",
        "training_args = TrainingArguments(\n",
        "    output_dir=output_dir,\n",
        "    num_train_epochs=num_train_epochs,\n",
        "    per_device_train_batch_size=per_device_train_batch_size,\n",
        "    gradient_accumulation_steps=gradient_accumulation_steps,\n",
        "    learning_rate=learning_rate,\n",
        "    weight_decay=weight_decay,\n",
        "    logging_steps=logging_steps,\n",
        "    save_strategy=\"steps\",\n",
        "    save_steps=save_steps,\n",
        "    fp16=(bnb_4bit_compute_dtype == \"float16\"),\n",
        "    bf16=False,\n",
        "    optim=\"paged_adamw_32bit\",\n",
        "    lr_scheduler_type=\"cosine\",\n",
        "    warmup_ratio=0.03,\n",
        "    group_by_length=True,\n",
        "    report_to=\"none\",\n",
        ")\n",
        "\n",
        "# Initialize SFTTrainer\n",
        "trainer = SFTTrainer(\n",
        "    model=model,\n",
        "    train_dataset=dataset,\n",
        "    peft_config=peft_config,\n",
        "    args=training_args\n",
        ")\n"
      ],
      "metadata": {
        "id": "fKjTfFffjfQi"
      },
      "execution_count": null,
      "outputs": []
    },
    {
      "cell_type": "code",
      "source": [
        "# ----------------------------\n",
        "# Step 8 - Train\n",
        "# ----------------------------\n",
        "trainer.train()\n"
      ],
      "metadata": {
        "id": "ZqKVS-U6jfTB"
      },
      "execution_count": null,
      "outputs": []
    },
    {
      "cell_type": "code",
      "source": [
        "# ----------------------------\n",
        "# Step 9 - Save adapter\n",
        "# ----------------------------\n",
        "import os\n",
        "\n",
        "adapter_save_path = os.path.join(output_dir, new_adapter_name)\n",
        "model.save_pretrained(adapter_save_path)\n",
        "print(\"Adapter saved to:\", adapter_save_path)\n",
        "\n",
        "# Optional: merge into full model (bigger)\n",
        "# merged_model = model.merge_and_unload()\n",
        "# merged_model.save_pretrained(os.path.join(output_dir, \"llama2-7b-merged\"))\n"
      ],
      "metadata": {
        "id": "RwQqKlihjvef"
      },
      "execution_count": null,
      "outputs": []
    },
    {
      "cell_type": "code",
      "source": [
        "# ----------------------------\n",
        "# Step 10 - Load adapter + run inference\n",
        "# ----------------------------\n",
        "from transformers import AutoModelForCausalLM, AutoTokenizer\n",
        "from peft import PeftModel\n",
        "\n",
        "# Reload base model in 4-bit\n",
        "base = AutoModelForCausalLM.from_pretrained(\n",
        "    model_name,\n",
        "    quantization_config=bnb_config,\n",
        "    device_map=\"auto\",\n",
        "    trust_remote_code=True\n",
        ")\n",
        "base.config.use_cache = True\n",
        "\n",
        "# Load LoRA adapter\n",
        "model_with_adapter = PeftModel.from_pretrained(base, adapter_save_path)\n",
        "\n",
        "# Prepare tokenizer\n",
        "tokenizer = AutoTokenizer.from_pretrained(model_name, trust_remote_code=True)\n",
        "\n",
        "# Prompt example\n",
        "prompt = \"Write a polite email asking for a meeting about QLoRA improvements.\"\n",
        "\n",
        "inputs = tokenizer(prompt, return_tensors=\"pt\", truncation=True, padding=True).to(model_with_adapter.device)\n",
        "outputs = model_with_adapter.generate(**inputs, max_length=200)\n",
        "\n",
        "print(tokenizer.decode(outputs[0], skip_special_tokens=True))\n"
      ],
      "metadata": {
        "id": "zy7NYeIPjyaC"
      },
      "execution_count": null,
      "outputs": []
    }
  ]
}